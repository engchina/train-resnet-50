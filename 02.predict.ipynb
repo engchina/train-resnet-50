{
 "cells": [
  {
   "cell_type": "code",
   "execution_count": null,
   "id": "initial_id",
   "metadata": {
    "collapsed": true
   },
   "outputs": [],
   "source": [
    "import json\n",
    "import torch\n",
    "from PIL import Image\n",
    "from torchvision import transforms\n",
    "import matplotlib.pyplot as plt\n",
    "from model import resnet50\n",
    "\n",
    "device = torch.device(\"cuda:0\" if torch.cuda.is_available() else \"cpu\")\n",
    "\n",
    "data_transform = transforms.Compose(\n",
    "    [transforms.Resize(256),\n",
    "     transforms.CenterCrop(224),\n",
    "     transforms.ToTensor(),\n",
    "     transforms.Normalize([0.485, 0.456, 0.406], [0.229, 0.224, 0.225])])   # 和训练一样的标准化处理参数\n",
    "\n",
    "# load image\n",
    "img_path = \"../tulip.jpg\"\n",
    "img = Image.open(img_path)\n",
    "plt.imshow(img)\n",
    "# [N, C, H, W]\n",
    "img = data_transform(img)\n",
    "# expand batch dimension\n",
    "img = torch.unsqueeze(img, dim=0)\n",
    "\n",
    "# read class_indict\n",
    "try:\n",
    "    json_file = open('./class_indices.json', 'r')\n",
    "    class_indict = json.load(json_file)\n",
    "except Exception as e:\n",
    "    print(e)\n",
    "    exit(-1)\n",
    "\n",
    "# create model\n",
    "model = resnet50(num_classes=2).to(device)\n",
    "\n",
    "# load model weights\n",
    "weights_path = \"./resNet34.pth\"\n",
    "model.load_state_dict(torch.load(weights_path, map_location=device))\n",
    "\n",
    "# prediction\n",
    "model.eval()\n",
    "with torch.no_grad():   # 不对损失梯度进行跟踪\n",
    "    # predict class\n",
    "    output = torch.squeeze(model(img.to(device))).cpu()   # squeeze压缩batch维度\n",
    "    predict = torch.softmax(output, dim=0)   # 得到概率分布\n",
    "    predict_cla = torch.argmax(predict).numpy()   # 寻找最大值所对应的索引\n",
    "\n",
    "print_res = \"class: {}   prob: {:.3}\".format(class_indict[str(predict_cla)],\n",
    "                                             predict[predict_cla].numpy())\n",
    "plt.title(print_res)\n",
    "for i in range(len(predict)):\n",
    "    print(\"class: {:10}   prob: {:.3}\".format(class_indict[str(i)],\n",
    "                                              predict[i].numpy()))   # 打印类别信息及概率\n",
    "plt.show()"
   ]
  }
 ],
 "metadata": {
  "kernelspec": {
   "display_name": "Python 3",
   "language": "python",
   "name": "python3"
  },
  "language_info": {
   "codemirror_mode": {
    "name": "ipython",
    "version": 2
   },
   "file_extension": ".py",
   "mimetype": "text/x-python",
   "name": "python",
   "nbconvert_exporter": "python",
   "pygments_lexer": "ipython2",
   "version": "2.7.6"
  }
 },
 "nbformat": 4,
 "nbformat_minor": 5
}
