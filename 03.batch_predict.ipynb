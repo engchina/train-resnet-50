{
 "cells": [
  {
   "cell_type": "code",
   "execution_count": null,
   "id": "initial_id",
   "metadata": {
    "collapsed": true
   },
   "outputs": [],
   "source": [
    "import os\n",
    "import json\n",
    "\n",
    "import torch\n",
    "from PIL import Image\n",
    "from torchvision import transforms\n",
    "\n",
    "from model import resnet50\n",
    "\n",
    "device = torch.device(\"cuda:0\" if torch.cuda.is_available() else \"cpu\")\n",
    "\n",
    "data_transform = transforms.Compose(\n",
    "    [transforms.Resize(256),\n",
    "     transforms.CenterCrop(224),\n",
    "     transforms.ToTensor(),\n",
    "     transforms.Normalize([0.485, 0.456, 0.406], [0.229, 0.224, 0.225])])\n",
    "\n",
    "# load image\n",
    "# 指向需要遍历预测的图像文件夹\n",
    "imgs_root = \"/data/imgs\"\n",
    "assert os.path.exists(imgs_root), f\"file: '{imgs_root}' dose not exist.\"\n",
    "# 读取指定文件夹下所有jpg图像路径\n",
    "img_path_list = [os.path.join(imgs_root, i) for i in os.listdir(imgs_root) if i.endswith(\".jpg\")]\n",
    "\n",
    "# read class_indict\n",
    "json_path = './class_indices.json'\n",
    "assert os.path.exists(json_path), f\"file: '{json_path}' dose not exist.\"\n",
    "\n",
    "json_file = open(json_path, \"r\")\n",
    "class_indict = json.load(json_file)\n",
    "\n",
    "# create model\n",
    "model = resnet34(num_classes=5).to(device)\n",
    "\n",
    "# load model weights\n",
    "weights_path = \"./resNet34.pth\"\n",
    "assert os.path.exists(weights_path), f\"file: '{weights_path}' dose not exist.\"\n",
    "model.load_state_dict(torch.load(weights_path, map_location=device))\n",
    "\n",
    "# prediction\n",
    "model.eval()\n",
    "batch_size = 8  # 每次预测时将多少张图片打包成一个batch\n",
    "with torch.no_grad():\n",
    "    for ids in range(0, len(img_path_list) // batch_size):\n",
    "        img_list = []\n",
    "        for img_path in img_path_list[ids * batch_size: (ids + 1) * batch_size]:\n",
    "            assert os.path.exists(img_path), f\"file: '{img_path}' dose not exist.\"\n",
    "            img = Image.open(img_path)\n",
    "            img = data_transform(img)\n",
    "            img_list.append(img)\n",
    "\n",
    "        # batch img\n",
    "        # 将img_list列表中的所有图像打包成一个batch\n",
    "        batch_img = torch.stack(img_list, dim=0)\n",
    "        # predict class\n",
    "        output = model(batch_img.to(device)).cpu()\n",
    "        predict = torch.softmax(output, dim=1)\n",
    "        probs, classes = torch.max(predict, dim=1)\n",
    "\n",
    "        for idx, (pro, cla) in enumerate(zip(probs, classes)):\n",
    "            print(\"image: {}  class: {}  prob: {:.3}\".format(img_path_list[ids * batch_size + idx],\n",
    "                                                             class_indict[str(cla.numpy())],\n",
    "                                                             pro.numpy()))"
   ]
  }
 ],
 "metadata": {
  "kernelspec": {
   "display_name": "Python 3",
   "language": "python",
   "name": "python3"
  },
  "language_info": {
   "codemirror_mode": {
    "name": "ipython",
    "version": 2
   },
   "file_extension": ".py",
   "mimetype": "text/x-python",
   "name": "python",
   "nbconvert_exporter": "python",
   "pygments_lexer": "ipython2",
   "version": "2.7.6"
  }
 },
 "nbformat": 4,
 "nbformat_minor": 5
}
